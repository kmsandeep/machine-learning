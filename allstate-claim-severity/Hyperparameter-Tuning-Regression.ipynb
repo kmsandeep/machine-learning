{
 "cells": [
  {
   "cell_type": "markdown",
   "metadata": {},
   "source": [
    "# Hyperparmeter Tuning of models"
   ]
  },
  {
   "cell_type": "code",
   "execution_count": 37,
   "metadata": {
    "ExecuteTime": {
     "end_time": "2021-03-29T03:03:48.180958Z",
     "start_time": "2021-03-29T03:03:48.113412Z"
    }
   },
   "outputs": [],
   "source": [
    "import pandas as pd\n",
    "import numpy as np\n",
    "import matplotlib.pyplot as plt\n",
    "import seaborn as sns\n",
    "from tqdm import tqdm\n",
    "from sklearn.model_selection import train_test_split\n",
    "from sklearn.ensemble import RandomForestRegressor\n",
    "from sklearn.linear_model import SGDRegressor\n",
    "from sklearn.model_selection import GridSearchCV\n",
    "from sklearn.model_selection import RandomizedSearchCV\n",
    "from sklearn.metrics import mean_absolute_error\n",
    "from xgboost import XGBRegressor\n",
    "\n",
    "import pickle\n",
    "%matplotlib inline\n",
    "plt.style.use('seaborn')\n",
    "import warnings\n",
    "warnings.filterwarnings(\"ignore\")"
   ]
  },
  {
   "cell_type": "markdown",
   "metadata": {
    "id": "xgxlik8Z3UcO"
   },
   "source": [
    "### Importing the dataset"
   ]
  },
  {
   "cell_type": "code",
   "execution_count": 39,
   "metadata": {
    "ExecuteTime": {
     "end_time": "2021-03-29T03:04:25.507296Z",
     "start_time": "2021-03-29T03:04:25.213679Z"
    }
   },
   "outputs": [
    {
     "data": {
      "text/plain": [
       "(150654, 383)"
      ]
     },
     "execution_count": 39,
     "metadata": {},
     "output_type": "execute_result"
    }
   ],
   "source": [
    "from os import path\n",
    "X_train_final = np.load('X_train_final.npy')\n",
    "X_test_final = np.load('X_test_final.npy')\n",
    "y_train = np.load('y_train.npy')\n",
    "y_test = np.load('y_test.npy')\n",
    "X_train_final.shape"
   ]
  },
  {
   "cell_type": "markdown",
   "metadata": {},
   "source": [
    "## SGD Regressor"
   ]
  },
  {
   "cell_type": "code",
   "execution_count": 21,
   "metadata": {
    "ExecuteTime": {
     "end_time": "2021-03-27T10:11:08.649951Z",
     "start_time": "2021-03-27T10:01:34.785656Z"
    }
   },
   "outputs": [
    {
     "name": "stdout",
     "output_type": "stream",
     "text": [
      "GridSearchCV(cv=3, estimator=SGDRegressor(random_state=10), n_jobs=-1,\n",
      "             param_grid={'alpha': array([1.e-02, 1.e-01, 1.e+00, 1.e+01, 1.e+02, 1.e+03, 1.e+04])},\n",
      "             return_train_score=True, scoring='neg_mean_squared_error')\n",
      "Best best_score : -1.5935429309798177\n",
      "Best estimator : 10.0\n"
     ]
    }
   ],
   "source": [
    "# prepare a range of alpha values to test\n",
    "alphas = np.array([0.01, 0.1, 1, 10, 100, 1e3, 1e4])\n",
    "\n",
    "model = SGDRegressor(loss='squared_loss', penalty='l2', random_state=10)\n",
    "grid = GridSearchCV(estimator=model, param_grid=dict(\n",
    "    alpha=alphas), n_jobs=-1, scoring='neg_mean_squared_error',cv=3, return_train_score=True)\n",
    "\n",
    "grid.fit(X_train_final, np.log(y_train))\n",
    "\n",
    "print(grid)\n",
    "# summarize the results of the grid search\n",
    "print('Best best_score :',grid.best_score_)\n",
    "print('Best estimator :', grid.best_estimator_.alpha)\n",
    "with open('sgd_grid.pkl', 'wb') as f:\n",
    "    pickle.dump(grid, f)"
   ]
  },
  {
   "cell_type": "code",
   "execution_count": 25,
   "metadata": {
    "ExecuteTime": {
     "end_time": "2021-03-27T10:20:04.955543Z",
     "start_time": "2021-03-27T10:20:04.351436Z"
    },
    "scrolled": false
   },
   "outputs": [
    {
     "data": {
      "image/png": "[encoded data removed]",
      "text/plain": [
       "<Figure size 576x396 with 1 Axes>"
      ]
     },
     "metadata": {},
     "output_type": "display_data"
    }
   ],
   "source": [
    "results = grid.cv_results_\n",
    "alphas = results['param_alpha'].data\n",
    "mean_train_score= results['mean_train_score']\n",
    "mean_test_score = results['mean_test_score']\n",
    "\n",
    "sns.lineplot(x=alphas,y=mean_train_score)\n",
    "sns.lineplot(x=alphas,y=mean_test_score)\n",
    "plt.title('score vs hyperparameter plot')\n",
    "plt.xscale('log')\n",
    "plt.xlabel('log(alpha)')\n",
    "plt.ylabel('score')\n",
    "plt.show()"
   ]
  },
  {
   "cell_type": "markdown",
   "metadata": {},
   "source": [
    "## Random forest"
   ]
  },
  {
   "cell_type": "markdown",
   "metadata": {},
   "source": [
    "**Finding optimal max_depth**"
   ]
  },
  {
   "cell_type": "code",
   "execution_count": null,
   "metadata": {
    "ExecuteTime": {
     "start_time": "2021-03-29T03:17:31.782Z"
    }
   },
   "outputs": [],
   "source": [
    "rf_reg = RandomForestRegressor(criterion='mse',\n",
    "                               \n",
    "                               oob_score=True, n_jobs=-1, random_state=10,\n",
    "                               )\n",
    "params_cv = {\n",
    "    'n_estimators': [50, 80, 100, 150, 200],\n",
    "    \"min_samples_split\": [10, 50, 80, 100, 150],\n",
    "    \"min_samples_leaf\": [10, 50, 80, 100, 150],\n",
    "    \"max_samples\": [0.2, 0.3, 0.4, 0.5],\n",
    "    'max_depth': [6, 8, 10, 12, 14]\n",
    "\n",
    "}\n",
    "\n",
    "grid = RandomizedSearchCV(rf_reg,\n",
    "                          param_distributions=params_cv,\n",
    "                          n_iter=20, cv=3,\n",
    "                          scoring='neg_mean_squared_error',\n",
    "                          n_jobs=-1,\n",
    "                          return_train_score=True,\n",
    "                          random_state=10)\n",
    "\n",
    "grid.fit(X_train_final, np.log(y_train))\n",
    "\n",
    "print(grid)\n",
    "# summarize the results of the grid search\n",
    "print('Best best_score :', grid.best_score_)\n",
    "print('Best estimator :', grid.best_estimator_)\n",
    "with open('rf_reg_grid.pkl', 'wb') as f:\n",
    "    pickle.dump(grid, f)"
   ]
  },
  {
   "cell_type": "code",
   "execution_count": 56,
   "metadata": {
    "ExecuteTime": {
     "end_time": "2021-03-27T11:26:42.395606Z",
     "start_time": "2021-03-27T11:26:42.171357Z"
    }
   },
   "outputs": [
    {
     "data": {
      "image/png": "[encoded data removed]",
      "text/plain": [
       "<Figure size 576x396 with 1 Axes>"
      ]
     },
     "metadata": {},
     "output_type": "display_data"
    }
   ],
   "source": [
    "results = grid.cv_results_\n",
    "max_depth = results['param_max_depth'].data\n",
    "mean_train_score= results['mean_train_score']\n",
    "mean_test_score = results['mean_test_score']\n",
    "\n",
    "sns.lineplot(x=max_depth,y=mean_train_score,label='train')\n",
    "sns.lineplot(x=max_depth,y=mean_test_score,label='test')\n",
    "plt.title('score vs max_depth plot')\n",
    "plt.xlabel('max_depth')\n",
    "plt.ylabel('score')\n",
    "plt.show()"
   ]
  },
  {
   "cell_type": "markdown",
   "metadata": {},
   "source": [
    "**Finding optimal min_samples_split**"
   ]
  },
  {
   "cell_type": "code",
   "execution_count": 7,
   "metadata": {
    "ExecuteTime": {
     "end_time": "2021-03-27T11:48:50.630896Z",
     "start_time": "2021-03-27T11:39:01.115126Z"
    }
   },
   "outputs": [
    {
     "name": "stdout",
     "output_type": "stream",
     "text": [
      "GridSearchCV(cv=3,\n",
      "             estimator=RandomForestRegressor(max_depth=16, max_samples=0.2,\n",
      "                                             min_samples_leaf=100,\n",
      "                                             n_estimators=50, n_jobs=-1,\n",
      "                                             oob_score=True, random_state=10),\n",
      "             n_jobs=-1,\n",
      "             param_grid={'min_samples_split': array([ 20,  40,  80, 120, 200, 250])},\n",
      "             return_train_score=True, scoring='neg_mean_squared_error')\n",
      "Best best_score : -0.3506907401854107\n",
      "Best estimator : 200\n"
     ]
    }
   ],
   "source": [
    "rf_reg = RandomForestRegressor(n_estimators=50, criterion='mse',max_depth=16,\n",
    "                               min_samples_leaf=100,n_jobs=-1, random_state=10,\n",
    "                               max_samples=0.2)\n",
    "\n",
    "min_samples_split = np.array([20, 40, 80, 120, 200, 250])\n",
    "\n",
    "grid = GridSearchCV(estimator=rf_reg,\n",
    "                    param_grid=dict(min_samples_split=min_samples_split),\n",
    "                    n_jobs=-1, scoring='neg_mean_squared_error',\n",
    "                    cv=3, return_train_score=True)\n",
    "\n",
    "grid.fit(X_train_final, np.log(y_train))\n",
    "\n",
    "print(grid)\n",
    "# summarize the results of the grid search\n",
    "print('Best best_score :', grid.best_score_)\n",
    "print('Best estimator :', grid.best_estimator_.min_samples_split)\n",
    "with open('rf_min_samples_split_grid.pkl', 'wb') as f:\n",
    "    pickle.dump(grid, f)"
   ]
  },
  {
   "cell_type": "code",
   "execution_count": 8,
   "metadata": {
    "ExecuteTime": {
     "end_time": "2021-03-27T11:51:27.881826Z",
     "start_time": "2021-03-27T11:51:27.078406Z"
    }
   },
   "outputs": [
    {
     "data": {
      "image/png": "[encoded data removed]",
      "text/plain": [
       "<Figure size 576x396 with 1 Axes>"
      ]
     },
     "metadata": {},
     "output_type": "display_data"
    }
   ],
   "source": [
    "results = grid.cv_results_\n",
    "min_samples_split = results['param_min_samples_split'].data\n",
    "mean_train_score= results['mean_train_score']\n",
    "mean_test_score = results['mean_test_score']\n",
    "\n",
    "sns.lineplot(x=min_samples_split,y=mean_train_score,label='train')\n",
    "sns.lineplot(x=min_samples_split,y=mean_test_score,label='test')\n",
    "plt.title('score vs min_samples_split plot')\n",
    "plt.xlabel('min_samples_split')\n",
    "plt.ylabel('score')\n",
    "plt.show()"
   ]
  },
  {
   "cell_type": "markdown",
   "metadata": {},
   "source": [
    "**Finding optimal n_estimators**"
   ]
  },
  {
   "cell_type": "code",
   "execution_count": 10,
   "metadata": {
    "ExecuteTime": {
     "end_time": "2021-03-27T12:21:20.733071Z",
     "start_time": "2021-03-27T11:58:16.331285Z"
    }
   },
   "outputs": [
    {
     "name": "stdout",
     "output_type": "stream",
     "text": [
      "GridSearchCV(cv=3,\n",
      "             estimator=RandomForestRegressor(max_depth=16, max_samples=0.2,\n",
      "                                             min_samples_leaf=100,\n",
      "                                             min_samples_split=200, n_jobs=-1,\n",
      "                                             random_state=10),\n",
      "             n_jobs=-1,\n",
      "             param_grid={'n_estimators': array([ 40,  60,  80, 100, 120, 150, 200])},\n",
      "             return_train_score=True, scoring='neg_mean_squared_error')\n",
      "Best best_score : -0.3501762018004177\n",
      "Best n_estimators : 200\n"
     ]
    }
   ],
   "source": [
    "rf_reg = RandomForestRegressor(criterion='mse', max_depth=16, min_samples_split=200,\n",
    "                               min_samples_leaf=100, n_jobs=-1, random_state=10,\n",
    "                               max_samples=0.2)\n",
    "\n",
    "n_estimators = np.array([40, 60, 80, 100, 120, 150, 200])\n",
    "\n",
    "grid = GridSearchCV(estimator=rf_reg,\n",
    "                    param_grid=dict(n_estimators=n_estimators),\n",
    "                    n_jobs=-1, scoring='neg_mean_squared_error',\n",
    "                    cv=3, return_train_score=True)\n",
    "\n",
    "grid.fit(X_train_final, np.log(y_train))\n",
    "\n",
    "print(grid)\n",
    "# summarize the results of the grid search\n",
    "print('Best best_score :', grid.best_score_)\n",
    "print('Best n_estimators :', grid.best_estimator_.n_estimators)\n",
    "with open('rf_n_estimators_grid.pkl', 'wb') as f:\n",
    "    pickle.dump(grid, f)"
   ]
  },
  {
   "cell_type": "code",
   "execution_count": 11,
   "metadata": {
    "ExecuteTime": {
     "end_time": "2021-03-27T13:24:11.508272Z",
     "start_time": "2021-03-27T13:24:10.879651Z"
    }
   },
   "outputs": [
    {
     "data": {
      "image/png": "[encoded data removed]",
      "text/plain": [
       "<Figure size 576x396 with 1 Axes>"
      ]
     },
     "metadata": {},
     "output_type": "display_data"
    }
   ],
   "source": [
    "results = grid.cv_results_\n",
    "n_estimators = results['param_n_estimators'].data\n",
    "mean_train_score= results['mean_train_score']\n",
    "mean_test_score = results['mean_test_score']\n",
    "\n",
    "sns.lineplot(x=n_estimators,y=mean_train_score,label='train')\n",
    "sns.lineplot(x=n_estimators,y=mean_test_score,label='test')\n",
    "plt.title('score vs min_samples_split plot')\n",
    "plt.xlabel('n_estimators')\n",
    "plt.ylabel('score')\n",
    "plt.show()"
   ]
  },
  {
   "cell_type": "markdown",
   "metadata": {},
   "source": [
    "## Gradient boosted decision trees"
   ]
  },
  {
   "cell_type": "code",
   "execution_count": 7,
   "metadata": {
    "ExecuteTime": {
     "end_time": "2021-03-28T08:19:04.634018Z",
     "start_time": "2021-03-28T08:19:04.614096Z"
    }
   },
   "outputs": [
    {
     "name": "stdout",
     "output_type": "stream",
     "text": [
      "RandomizedSearchCV(cv=3,\n",
      "                   estimator=XGBRegressor(base_score=None, booster='gbtree',\n",
      "                                          colsample_bylevel=None,\n",
      "                                          colsample_bynode=None,\n",
      "                                          colsample_bytree=None, gamma=0.1,\n",
      "                                          gpu_id=None, importance_type='gain',\n",
      "                                          interaction_constraints=None,\n",
      "                                          learning_rate=0.1,\n",
      "                                          max_delta_step=None, max_depth=None,\n",
      "                                          min_child_weight=None, missing=nan,\n",
      "                                          monotone_constraints=None,\n",
      "                                          n_estimators=100...\n",
      "                                          scale_pos_weight=None, subsample=None,\n",
      "                                          tree_method=None,\n",
      "                                          validate_parameters=None,\n",
      "                                          verbosity=None),\n",
      "                   n_iter=30, n_jobs=-1,\n",
      "                   param_distributions={'colsample_bytree': [0.5, 0.6, 0.7,\n",
      "                                                             0.8],\n",
      "                                        'gamma': [0, 0.1, 0.3, 0.5],\n",
      "                                        'max_depth': [4, 5, 6, 8, 10],\n",
      "                                        'min_child_weight': [1, 3, 5, 7, 9],\n",
      "                                        'subsample': [0.5, 0.6, 0.7, 0.8]},\n",
      "                   random_state=10, return_train_score=True,\n",
      "                   scoring='neg_mean_squared_error')\n",
      "Best params:  {'subsample': 0.7, 'min_child_weight': 7, 'max_depth': 8, 'gamma': 0, 'colsample_bytree': 0.7}\n"
     ]
    }
   ],
   "source": [
    "estimator = XGBRegressor(objective='reg:squarederror',\n",
    "                         n_estimators=100,\n",
    "                         booster='gbtree',\n",
    "                         learning_rate=0.1,\n",
    "                         gamma=0.1,\n",
    "                         random_state=10,\n",
    "                         n_jobs=-1)\n",
    "params_cv = {\n",
    "    \"max_depth\": [4, 5, 6, 8, 10],\n",
    "    \"min_child_weight\": [1, 3, 5, 7, 9],\n",
    "    \"gamma\": [0, 0.1, 0.3, 0.5],\n",
    "    \"subsample\": [0.5, 0.6, 0.7, 0.8],\n",
    "    \"colsample_bytree\": [0.5, 0.6, 0.7, 0.8]\n",
    "}\n",
    "\n",
    "#https://scikit-learn.org/stable/modules/generated/sklearn.model_selection.GridSearchCV.html\n",
    "randcv = RandomizedSearchCV(estimator, \n",
    "                                  param_distributions=params_cv,\n",
    "                                  n_iter=30, cv=3,\n",
    "                                  scoring='neg_mean_squared_error',\n",
    "                                  n_jobs=-1, \n",
    "                                  return_train_score=True,\n",
    "                                  random_state=10)\n",
    "randcv.fit(X_train_final, np.log(y_train))\n",
    "print(randcv)\n",
    "print('Best params: ', randcv.best_params_)\n",
    "with open('xgb_reg.pkl', 'wb') as f:\n",
    "    pickle.dump(randcv, f)"
   ]
  },
  {
   "cell_type": "code",
   "execution_count": 36,
   "metadata": {
    "ExecuteTime": {
     "end_time": "2021-03-28T08:42:57.425404Z",
     "start_time": "2021-03-28T08:42:57.366561Z"
    },
    "scrolled": false
   },
   "outputs": [
    {
     "name": "stdout",
     "output_type": "stream",
     "text": [
      "iteration : 1\n",
      "{'subsample': 0.7, 'min_child_weight': 9, 'max_depth': 4, 'gamma': 0.5, 'colsample_bytree': 0.8}\n",
      "mean_train_score:  -0.301510580684274\n",
      "mean_test_score:  -0.3102837923083608\n",
      "\n",
      "iteration : 2\n",
      "{'subsample': 0.7, 'min_child_weight': 3, 'max_depth': 6, 'gamma': 0, 'colsample_bytree': 0.8}\n",
      "mean_train_score:  -0.27390871600764305\n",
      "mean_test_score:  -0.30255088436662514\n",
      "\n",
      "iteration : 3\n",
      "{'subsample': 0.5, 'min_child_weight': 3, 'max_depth': 6, 'gamma': 0.1, 'colsample_bytree': 0.6}\n",
      "mean_train_score:  -0.2775782398157746\n",
      "mean_test_score:  -0.3047169247627239\n",
      "\n",
      "iteration : 4\n",
      "{'subsample': 0.8, 'min_child_weight': 1, 'max_depth': 6, 'gamma': 0.1, 'colsample_bytree': 0.8}\n",
      "mean_train_score:  -0.2722896909888158\n",
      "mean_test_score:  -0.3025965602080171\n",
      "\n",
      "iteration : 5\n",
      "{'subsample': 0.5, 'min_child_weight': 5, 'max_depth': 5, 'gamma': 0, 'colsample_bytree': 0.6}\n",
      "mean_train_score:  -0.2908667713515417\n",
      "mean_test_score:  -0.3068788827801281\n",
      "\n",
      "iteration : 6\n",
      "{'subsample': 0.7, 'min_child_weight': 5, 'max_depth': 10, 'gamma': 0.5, 'colsample_bytree': 0.7}\n",
      "mean_train_score:  -0.1878546103835791\n",
      "mean_test_score:  -0.3028071250152426\n",
      "\n",
      "iteration : 7\n",
      "{'subsample': 0.5, 'min_child_weight': 9, 'max_depth': 6, 'gamma': 0.3, 'colsample_bytree': 0.7}\n",
      "mean_train_score:  -0.2784693063838674\n",
      "mean_test_score:  -0.3044695865575703\n",
      "\n",
      "iteration : 8\n",
      "{'subsample': 0.6, 'min_child_weight': 1, 'max_depth': 8, 'gamma': 0.5, 'colsample_bytree': 0.5}\n",
      "mean_train_score:  -0.24058494814385212\n",
      "mean_test_score:  -0.3029691751834528\n",
      "\n",
      "iteration : 9\n",
      "{'subsample': 0.8, 'min_child_weight': 3, 'max_depth': 8, 'gamma': 0.5, 'colsample_bytree': 0.5}\n",
      "mean_train_score:  -0.23654230115170685\n",
      "mean_test_score:  -0.3012171223834765\n",
      "\n",
      "iteration : 10\n",
      "{'subsample': 0.6, 'min_child_weight': 1, 'max_depth': 4, 'gamma': 0.3, 'colsample_bytree': 0.8}\n",
      "mean_train_score:  -0.3014548187437814\n",
      "mean_test_score:  -0.3103648700940034\n",
      "\n",
      "iteration : 11\n",
      "{'subsample': 0.7, 'min_child_weight': 7, 'max_depth': 8, 'gamma': 0, 'colsample_bytree': 0.7}\n",
      "mean_train_score:  -0.23839208780654583\n",
      "mean_test_score:  -0.30103259107226416\n",
      "\n",
      "iteration : 12\n",
      "{'subsample': 0.6, 'min_child_weight': 1, 'max_depth': 8, 'gamma': 0.3, 'colsample_bytree': 0.8}\n",
      "mean_train_score:  -0.23587154565269844\n",
      "mean_test_score:  -0.303610860566123\n",
      "\n",
      "iteration : 13\n",
      "{'subsample': 0.8, 'min_child_weight': 1, 'max_depth': 5, 'gamma': 0.1, 'colsample_bytree': 0.5}\n",
      "mean_train_score:  -0.2896575383406587\n",
      "mean_test_score:  -0.3058466467578626\n",
      "\n",
      "iteration : 14\n",
      "{'subsample': 0.5, 'min_child_weight': 7, 'max_depth': 8, 'gamma': 0.1, 'colsample_bytree': 0.8}\n",
      "mean_train_score:  -0.24395227203662906\n",
      "mean_test_score:  -0.30282156971879076\n",
      "\n",
      "iteration : 15\n",
      "{'subsample': 0.7, 'min_child_weight': 1, 'max_depth': 4, 'gamma': 0.1, 'colsample_bytree': 0.5}\n",
      "mean_train_score:  -0.30224772935475724\n",
      "mean_test_score:  -0.3104025164871533\n",
      "\n",
      "iteration : 16\n",
      "{'subsample': 0.6, 'min_child_weight': 9, 'max_depth': 5, 'gamma': 0.3, 'colsample_bytree': 0.8}\n",
      "mean_train_score:  -0.2898851028346639\n",
      "mean_test_score:  -0.3058455789107444\n",
      "\n",
      "iteration : 17\n",
      "{'subsample': 0.6, 'min_child_weight': 5, 'max_depth': 5, 'gamma': 0.5, 'colsample_bytree': 0.8}\n",
      "mean_train_score:  -0.28987817456748577\n",
      "mean_test_score:  -0.3061465385161075\n",
      "\n",
      "iteration : 18\n",
      "{'subsample': 0.6, 'min_child_weight': 3, 'max_depth': 5, 'gamma': 0.1, 'colsample_bytree': 0.8}\n",
      "mean_train_score:  -0.28927386929647736\n",
      "mean_test_score:  -0.306147512799772\n",
      "\n",
      "iteration : 19\n",
      "{'subsample': 0.6, 'min_child_weight': 9, 'max_depth': 4, 'gamma': 0.5, 'colsample_bytree': 0.5}\n",
      "mean_train_score:  -0.30243788549978595\n",
      "mean_test_score:  -0.3104794866762461\n",
      "\n",
      "iteration : 20\n",
      "{'subsample': 0.8, 'min_child_weight': 5, 'max_depth': 10, 'gamma': 0.3, 'colsample_bytree': 0.6}\n",
      "mean_train_score:  -0.18422857400294604\n",
      "mean_test_score:  -0.3022897140491247\n",
      "\n",
      "iteration : 21\n",
      "{'subsample': 0.6, 'min_child_weight': 9, 'max_depth': 6, 'gamma': 0.5, 'colsample_bytree': 0.8}\n",
      "mean_train_score:  -0.27619532349998527\n",
      "mean_test_score:  -0.3034945425292275\n",
      "\n",
      "iteration : 22\n",
      "{'subsample': 0.5, 'min_child_weight': 7, 'max_depth': 8, 'gamma': 0.5, 'colsample_bytree': 0.8}\n",
      "mean_train_score:  -0.24377971092113157\n",
      "mean_test_score:  -0.30317837007718\n",
      "\n",
      "iteration : 23\n",
      "{'subsample': 0.6, 'min_child_weight': 3, 'max_depth': 5, 'gamma': 0.5, 'colsample_bytree': 0.8}\n",
      "mean_train_score:  -0.28955596421071056\n",
      "mean_test_score:  -0.30599982458711456\n",
      "\n",
      "iteration : 24\n",
      "{'subsample': 0.5, 'min_child_weight': 3, 'max_depth': 8, 'gamma': 0, 'colsample_bytree': 0.5}\n",
      "mean_train_score:  -0.24463482938784975\n",
      "mean_test_score:  -0.30344534693121344\n",
      "\n",
      "iteration : 25\n",
      "{'subsample': 0.6, 'min_child_weight': 9, 'max_depth': 4, 'gamma': 0.3, 'colsample_bytree': 0.5}\n",
      "mean_train_score:  -0.30230708014782937\n",
      "mean_test_score:  -0.31040046780258307\n",
      "\n",
      "iteration : 26\n",
      "{'subsample': 0.7, 'min_child_weight': 7, 'max_depth': 6, 'gamma': 0, 'colsample_bytree': 0.8}\n",
      "mean_train_score:  -0.2746979630117734\n",
      "mean_test_score:  -0.30282137193332753\n",
      "\n",
      "iteration : 27\n",
      "{'subsample': 0.8, 'min_child_weight': 7, 'max_depth': 6, 'gamma': 0.1, 'colsample_bytree': 0.6}\n",
      "mean_train_score:  -0.27499569052014644\n",
      "mean_test_score:  -0.3022313566825698\n",
      "\n",
      "iteration : 28\n",
      "{'subsample': 0.8, 'min_child_weight': 5, 'max_depth': 10, 'gamma': 0.1, 'colsample_bytree': 0.5}\n",
      "mean_train_score:  -0.18643172545627973\n",
      "mean_test_score:  -0.30250762699578676\n",
      "\n",
      "iteration : 29\n",
      "{'subsample': 0.5, 'min_child_weight': 7, 'max_depth': 4, 'gamma': 0.3, 'colsample_bytree': 0.5}\n",
      "mean_train_score:  -0.30265260997443205\n",
      "mean_test_score:  -0.3105672905295813\n",
      "\n",
      "iteration : 30\n",
      "{'subsample': 0.8, 'min_child_weight': 7, 'max_depth': 5, 'gamma': 0, 'colsample_bytree': 0.5}\n",
      "mean_train_score:  -0.29007911849525286\n",
      "mean_test_score:  -0.30566970454858794\n",
      "\n"
     ]
    }
   ],
   "source": [
    "cvresult = pd.DataFrame(randcv.cv_results_)\n",
    "cvdf = cvresult[['params', 'mean_train_score', 'mean_test_score']]\n",
    "for i in range(len(cvdf)):\n",
    "    print('iteration :', i+1)\n",
    "    print(cvdf.iloc[i].params)\n",
    "    print('mean_train_score: ', cvdf.iloc[i].mean_train_score)\n",
    "    print('mean_test_score: ', cvdf.iloc[i].mean_test_score)\n",
    "    print()"
   ]
  }
 ],
 "metadata": {
  "kernelspec": {
   "display_name": "Python 3",
   "language": "python",
   "name": "python3"
  },
  "language_info": {
   "codemirror_mode": {
    "name": "ipython",
    "version": 3
   },
   "file_extension": ".py",
   "mimetype": "text/x-python",
   "name": "python",
   "nbconvert_exporter": "python",
   "pygments_lexer": "ipython3",
   "version": "3.8.5"
  },
  "varInspector": {
   "cols": {
    "lenName": 16,
    "lenType": 16,
    "lenVar": 40
   },
   "kernels_config": {
    "python": {
     "delete_cmd_postfix": "",
     "delete_cmd_prefix": "del ",
     "library": "var_list.py",
     "varRefreshCmd": "print(var_dic_list())"
    },
    "r": {
     "delete_cmd_postfix": ") ",
     "delete_cmd_prefix": "rm(",
     "library": "var_list.r",
     "varRefreshCmd": "cat(var_dic_list()) "
    }
   },
   "types_to_exclude": [
    "module",
    "function",
    "builtin_function_or_method",
    "instance",
    "_Feature"
   ],
   "window_display": false
  }
 },
 "nbformat": 4,
 "nbformat_minor": 4
}
